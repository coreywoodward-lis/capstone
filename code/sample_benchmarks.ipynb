{
 "cells": [
  {
   "cell_type": "code",
   "execution_count": 64,
   "metadata": {},
   "outputs": [],
   "source": [
    "n = 50\n",
    "sample_len = 100\n",
    "import random\n",
    "import json\n",
    "import pandas as pd"
   ]
  },
  {
   "cell_type": "code",
   "execution_count": 65,
   "metadata": {},
   "outputs": [],
   "source": [
    "# extracting random samples from commonsenseQA dataset\n",
    "file_path = 'data/commonsense_qa.parquet'\n",
    "\n",
    "# load parquet file\n",
    "df = pd.read_parquet(file_path)\n",
    "\n",
    "# randomly sample n rows, save as json\n",
    "import random\n",
    "sample = df.sample(1000, random_state=42)\n",
    "sample.to_json('data/samples/commonsense_qa_sample.jsonl', orient='records', lines=True)\n"
   ]
  },
  {
   "cell_type": "code",
   "execution_count": 66,
   "metadata": {},
   "outputs": [
    {
     "name": "stdout",
     "output_type": "stream",
     "text": [
      "[{'id': '8d0b2621524162b7c900ebba92bf7019', 'statement': 'Bill sits down on a whoopee cushion, what sound does he make when he sits? Answer: flatulence'}, {'id': '136c08fe01cb3e029b18b62997267810', 'statement': 'What is likely heard by those going to a party? Answer: laughter'}, {'id': '819890987657d108834837af52d7b42b', 'statement': 'A handsome prince is a stock character common to what? Answer: fairy tale'}, {'id': '033908492f55b9092e0fbdbcf49bab94', 'statement': 'What covers the largest percentage of the pacific northwest? Answer: united states'}, {'id': 'b67f97a3fd9f4025d34f927a7a616512', 'statement': 'When black and white balls are kicked with feet what is being played? Answer: soccer game'}, {'id': '0377b8205981a2da2da4c5b80b27057c', 'statement': 'If someone had been smoking, an easy way to tell would be if they were what? Answer: coughing'}, {'id': '411b40d253960936de500ef3a57d650b', 'statement': 'Billy was smart but inexperienced.  In many ways he was what? Answer: ignorant'}, {'id': '339dbff196404f63ac8660da1033bfee', 'statement': 'Where can someone find a shiny advertisement? Answer: magazine'}, {'id': '6401f11df53df1ef3f403de9a66150d7', 'statement': 'The only thing left of the ancient giants lizards are fossils and what? Answer: bones'}, {'id': '746d4507203ad0b6374ad03686b544cc', 'statement': 'He sat down at the table to play poker, to join the hand he had to what? Answer: ante up'}, {'id': '33c963d10ee6d129f9889b0369fd51ca', 'statement': 'Becoming inebriated leads to what state? Answer: drunkenness'}, {'id': '357d23b1b6ee9c8429732abbb87d3855', 'statement': 'From state to state gardeners appreciate the bee, it is a popular pollinator where? Answer: united states'}, {'id': '3b776e4cf27e8e7fb238665e138b4515', 'statement': 'Many prison movies take place at what famous prison? Answer: alcatraz'}, {'id': '9b8cd9811a98920365c738d2084eefa5', 'statement': 'The lizard lived at the base of the ancient longest wall, what country did it likely live in? Answer: china'}, {'id': 'e73d6adda1b587aa99ab26b17eaae7c5', 'statement': 'Where might someone go to watch a flute? Answer: symphony'}, {'id': '01222aa87ada7283129f7662cc0c4c5b', 'statement': 'Family is always the best for devotion, but it is also nice if a person has what? Answer: loyal friends'}, {'id': '1071356c6f9c269dd31f60a388235881', 'statement': 'Where would you put a marker if you plan to use it soon at the same location? Answer: desk'}, {'id': '603acfcb73c489f6cc374cd1d8d10b07', 'statement': 'He kept a container can for draining oil in what location of the house? Answer: garage'}, {'id': '051a9fcd42a663e4b0f5d0a487fcd9bc', 'statement': 'What do humans have that cerberus does not have? Answer: one head'}, {'id': 'e13eaf84dcbb81681834b71748c635d1', 'statement': 'The video game featured an anger bar that you charged up to more easily do what? Answer: destroy enemy'}, {'id': 'b09565ee419576bc451a65a1013443ec', 'statement': 'Where would you use a changing room before gym? Answer: schools'}, {'id': '694e6674295de4ab2d93fad3d7ba48c1', 'statement': 'The bird took flight by moving its what? Answer: two wings'}, {'id': 'baa25ff3ae9064e2c0824d0e702f711a', 'statement': 'It could have been a beautiful day, but what did the overcast sky do to the color? Answer: dull'}, {'id': 'd265fa98480eddeca7db28d8c73ad4d2', 'statement': 'Where will any tearoom be? Answer: building'}, {'id': '951723b28151ba3e238917afc8bf032a', 'statement': 'If you are deep in a cave, what would you follow to find your way out? Answer: light'}, {'id': '9e15b6ac3333c02afacb53a286051ff2', 'statement': 'When playing baseball they keep track of mistakes, this stat is called what? Answer: errors'}, {'id': 'fed410c2c6c1eef23c4fdfd8a1fc501e', 'statement': 'When people want to watch a new move, the often go see it at the? Answer: theater'}, {'id': 'd0f6be91ef071b5a5a4a9a84c5138446', 'statement': 'What is the goal of a poor person having food? Answer: will not starve'}, {'id': 'a518e6486a560ddef1ba140c75944ef3', 'statement': 'What do cats like to hug when they are peeking at birds? Answer: ground'}, {'id': '1b050d4c1d6aee596bc0205f6d7aa995', 'statement': 'The small dog always picked up the newspaper from the driveway, where did the dog live? Answer: suburb'}, {'id': '2c1f36267c3663cd1bb22e33f297be1b', 'statement': 'Behind what small door are canned goods usually kept in? Answer: cupboard'}, {'id': 'a13e42b3eb3be6f6cc6fd702203096f4', 'statement': 'American humans just graduated high school, where are many of them bound? Answer: university'}, {'id': '80470c5f592040322c50914bb4129d64', 'statement': 'Where is known to always have snow? Answer: north pole'}, {'id': '884a20ee89ce4088a5dc3dbc4cc9b747', 'statement': 'What will happen to you if you are staying healthy? Answer: long life'}, {'id': 'ba6449de6d9637a99a978cf97f4d5c0f', 'statement': 'Where do students use a pen? Answer: classroom'}, {'id': '9a4039c873d179816f6d6bc43cea2a2d', 'statement': 'Where do investment bankers hang out in the suburbs? Answer: country club'}, {'id': '30d5b111ebacc5f48f7b896ce85dcc2d', 'statement': 'What would a person do if he or she just woke up? Answer: drink tea'}, {'id': 'b1f17c81c549694441826bf30e032eef', 'statement': 'The person was exposed as a liar, so what happened as a result? Answer: feel humiliated'}, {'id': '4279383d2ed9350b7d0d46218de17b62', 'statement': 'When you go to buy a sheep you will learn that it is what? Answer: expensive'}, {'id': 'e7e5f05b8f359cefd60c3ff89a7f9403', 'statement': 'What would you put on your foot first before anything else? Answer: sock'}, {'id': '77a4a131e9083f6a4c70e8f88df54056', 'statement': 'What is a good result of losing weight? Answer: healthier'}, {'id': '51a4eef10d18d85f8bb3d1037d6db244', 'statement': 'where do people go to view famous pictures? Answer: art show'}, {'id': '8c3e27a26a4c7482ab1639d8f9b557b8', 'statement': 'What type of plant is the tallest found on earth? Answer: tree'}, {'id': 'd8c570d0c7b16b513c20857dfbd7509e', 'statement': \"The company was very cheap.  The didn't do what? Answer: pay employees\"}, {'id': 'c4ddf7c8914789ed49147eeeb7055784', 'statement': 'The moon was seen surrounded by stars, when was it seen by people? Answer: night sky'}, {'id': '64b6e39a574a0f475ac116021bdf6c99', 'statement': 'Where should you find a school in? Answer: every city'}, {'id': '2bb50f90416e95f587a4dcb1b1a4f726', 'statement': 'What can happen when kissing outside? Answer: get cold'}, {'id': '251e237360e6603f030430c9807a357e', 'statement': 'When picking an object for a baby something soft is the what option? Answer: sensible'}, {'id': '7042f9b4f9cb95e6cad8f04ecd713636', 'statement': 'When their litter box is full where might a cat go to the bathroom? Answer: houseplant'}, {'id': '691cd808e03a6c767e431fc1bac272cf', 'statement': \"Where is a place a beaver wouldn't feel free? Answer: zoo\"}]\n"
     ]
    }
   ],
   "source": [
    "# rebuild sample, construct formatted sentences\n",
    "'''\n",
    "Relevant columns:\n",
    "- id (str)\n",
    "- question (str)\n",
    "- label (list, always ['A', 'B', 'C', 'D', 'E'])\n",
    "- text (list, answers corresponding to labels)\n",
    "- answerKey (str, e.g. 'A')\n",
    "\n",
    "Under qualitative framework, interested in structure of questions\n",
    "'''\n",
    "\n",
    "# format answer\n",
    "with open('data/samples/commonsense_qa_sample.jsonl', 'r') as f:\n",
    "    data = [json.loads(line) for line in f]\n",
    "\n",
    "# filter list for shortest questions + answers\n",
    "data = [q for q in data if len(q['question']) + len(q['answerKey']) < sample_len]\n",
    "\n",
    "# format questions\n",
    "formatted_cs_statements = []\n",
    "for q in data:\n",
    "    c = q['choices']\n",
    "    labels, choices = c['label'], c['text']\n",
    "    correct_answer = dict(zip(labels, choices))[q['answerKey']]\n",
    "    formatted_cs_statements.append(\n",
    "        {'id': q['id'],\n",
    "         'statement': f'{q['question']} Answer: {correct_answer}'}\n",
    "    )\n",
    "\n",
    "formatted_cs_statements = formatted_cs_statements[:n]\n",
    "print(formatted_cs_statements)\n"
   ]
  },
  {
   "cell_type": "code",
   "execution_count": 67,
   "metadata": {},
   "outputs": [
    {
     "name": "stdout",
     "output_type": "stream",
     "text": [
      "50\n"
     ]
    }
   ],
   "source": [
    "# extracting random samples from hellaSWAG dataset\n",
    "file_path = 'data/hellaswag_train.jsonl'\n",
    "\n",
    "# load jsonl file\n",
    "import json\n",
    "with open(file_path, 'r') as f:\n",
    "    data = [json.loads(line) for line in f]\n",
    "\n",
    "# split activity net and wikihow\n",
    "act_net_split = [q for q in data if q['source_id'].__contains__('activitynet')]\n",
    "wikihow_split = [q for q in data if q['source_id'].__contains__('wikihow')]\n",
    "\n",
    "# filter list for shortest questions + answers\n",
    "act_net_split = [q for q in act_net_split if len(f'{q['ctx']} Answer: {q['endings'][q['label']]}') < sample_len]\n",
    "wikihow_split = [q for q in wikihow_split if len(f'{q['ctx']} Answer: {q['endings'][q['label']]}') < sample_len]\n",
    "\n",
    "# randomly sample n rows, save as json\n",
    "sample = random.sample(act_net_split, n)\n",
    "with open('data/samples/hellaswag_act_net_sample.jsonl', 'w') as f:\n",
    "    for line in sample:\n",
    "        f.write(json.dumps(line) + '\\n')\n",
    "'''\n",
    "# randomly sample n rows, save as json\n",
    "sample = random.sample(wikihow_split, n)\n",
    "with open('data/samples/hellaswag_wikihow_sample.jsonl', 'w') as f:\n",
    "    for line in sample:\n",
    "        f.write(json.dumps(line) + '\\n')\n",
    "'''\n",
    "# print sample\n",
    "print(len(sample))"
   ]
  },
  {
   "cell_type": "code",
   "execution_count": 68,
   "metadata": {},
   "outputs": [
    {
     "name": "stdout",
     "output_type": "stream",
     "text": [
      "[{'id': 9117, 'statement': 'An older man sits on an orange riding lawnmower. the man Answer: mows the yard in circles.'}, {'id': 36033, 'statement': 'A reclining woman knits with her hands. the woman Answer: talks without facing the camera.'}, {'id': 26750, 'statement': \"A boy wearing glasses is seated at a table. he Answer: is attempting to solve a rubik's cube.\"}, {'id': 8484, 'statement': 'Two people are sitting at a table. they Answer: are playing a game of rock paper scissors.'}, {'id': 32772, 'statement': 'A roof is repaired by pvc. the roof Answer: is cleaned and the seal is made again.'}, {'id': 20155, 'statement': 'A band plays music on stage. a man Answer: plays the drums intensely.'}, {'id': 38555, 'statement': 'Man is vacuuming the seats of a car. man Answer: is cleaning the car holding a hosepipe.'}, {'id': 31097, 'statement': 'A woman wearing a santa hat is talking. she Answer: puts christmas lights onto the tree.'}, {'id': 15596, 'statement': 'A woman is standing in her kitchen, making a cake. she Answer: frosts the cake layers with a knife.'}, {'id': 38076, 'statement': 'A man bends over and picks up his skateboard. he Answer: starts skateboarding down a hill.'}, {'id': 34647, 'statement': 'Little kid is jumping on dry leaves. woman Answer: is raking dry leaves on a yard.'}, {'id': 20743, 'statement': 'A man in a rodeo owing is performing a stunt. a man Answer: is riding a horse in a rodeo ring.'}, {'id': 20494, 'statement': '. a man in a black shirt and white gloves Answer: places billiard balls on a pool table.'}, {'id': 35940, 'statement': 'A lady brings a bowl of popcorn. people Answer: sit on a couch in front of tv.'}, {'id': 7872, 'statement': 'A man is standing inside a workshop. he Answer: leans over, welding a piece of metal.'}, {'id': 20369, 'statement': 'A young boy arranges a shirt on the floor. he Answer: grabs and iron and irons the shirt.'}, {'id': 35531, 'statement': 'A man is talking inside a large gym. he Answer: presents a paintball gun as he discusses technique.'}, {'id': 10533, 'statement': 'A man in a blue shirt picks up a child. he Answer: lifts him up to sit on his shoulder.'}, {'id': 45987, 'statement': 'A man is engaged in scuba diving. he Answer: explores the fish and coral on the floor.'}, {'id': 40190, 'statement': 'A man sits down on an exercise machine. he Answer: begins working out on the machine.'}, {'id': 17861, 'statement': 'People are scuba diving with fish under water. a fish Answer: is swimming around under the water.'}, {'id': 41181, 'statement': 'A picture of a person jumping off of a boat into the water. a boat Answer: is in the water.'}, {'id': 5378, 'statement': 'We see a lady talking in the bathroom. she Answer: shows us her blow dryer box.'}, {'id': 30214, 'statement': 'A man is shown bullfighting in front of a crowd. the man Answer: falls and is run over by the bull.'}, {'id': 28463, 'statement': 'A man in blue lifts dumbbells in a gym. a man wearing a yellow shirt Answer: does the same thing.'}, {'id': 39894, 'statement': 'The credits for the clip is shown. a female styles Answer: her long, dark hair.'}, {'id': 15865, 'statement': \"A boy is in a salon chair. a woman Answer: is cutting the boy's hair.\"}, {'id': 37354, 'statement': 'A kite is being flown in a desert. several people Answer: are standing around watching it.'}, {'id': 37504, 'statement': '. a girl in jeans and a black shirt Answer: is holding a sparkly silver hula hoop.'}, {'id': 35310, 'statement': 'A dog is put into a bath tub. a girl Answer: pours water onto the dog out of a cup.'}, {'id': 34666, 'statement': 'A girl is shown several times running on a track. she Answer: uses a pole to vault over a bar.'}, {'id': 3017, 'statement': 'A man appears before several targets on a back wall. he Answer: talks about the basics of archery.'}, {'id': 12054, 'statement': 'People are riding horses on a field. a dog and a person Answer: cross in front of the camera.'}, {'id': 30984, 'statement': 'A man dances in in a big room. as he Answer: does the dance he explains how to do it.'}, {'id': 44034, 'statement': 'We see a series of opening screens. a person Answer: throws a frisbee as a dog catches them.'}, {'id': 37305, 'statement': 'A man is seen pulling a pair of drums closer. he Answer: then begins playing on the drums.'}, {'id': 27445, 'statement': 'A woman is grooming a dog in a salon. she Answer: brushes the dogs hair and clips it.'}, {'id': 14118, 'statement': 'A man is standing in a room talking. another man Answer: is painting the walls of the room.'}, {'id': 6322, 'statement': 'A woman puts a blindfold on another woman. they Answer: give her a bat and spin her around.'}, {'id': 3092, 'statement': 'A man is shown against a white background. he Answer: is playing a guitar with his hands.'}, {'id': 42853, 'statement': 'A person cuts a pepper and put in a bowl. also Answer: , the person cook noodles in a pot.'}, {'id': 37055, 'statement': 'A man is playing wall ball in a room. he Answer: hits the ball against the wall several times.'}, {'id': 8951, 'statement': 'We see two men standing on a river bank. the men Answer: perform tai chi slowly.'}, {'id': 16315, 'statement': 'A kid is standing up playing the bag pipes. people Answer: are sitting in front of him watching.'}, {'id': 36694, 'statement': 'A small monkey is walking along a branch. the monkey Answer: stops and eats something in its hand.'}, {'id': 12480, 'statement': 'People are standing on a blue mat. they Answer: begin doing a cheerleading routine on the mat.'}, {'id': 46547, 'statement': 'People are walking up a hill with tubes. a woman Answer: is seen tubing downhill.'}, {'id': 37280, 'statement': 'A man is standing in his front yard. he Answer: is using a leaf blower attached to his back.'}, {'id': 40602, 'statement': 'A man is wearing a yellow vest. he Answer: is standing in front of a building cleaning a window.'}, {'id': 11465, 'statement': 'A woman in blue shorts hands a man a dart. a man in a white hat Answer: throws a dart at a board.'}]\n"
     ]
    }
   ],
   "source": [
    "# rebuild sample, construct formatted sentences\n",
    "'''\n",
    "Relevent columns:\n",
    "- ind (int)\n",
    "- ctx (str)\n",
    "- label (int: correct answer)\n",
    "- endings (list of str)\n",
    "'''\n",
    "\n",
    "# format answer\n",
    "with open('data/samples/hellaswag_act_net_sample.jsonl', 'r') as f:\n",
    "    data = [json.loads(line) for line in f]\n",
    "\n",
    "formatted_swag_statements = []\n",
    "for q in data:\n",
    "    formatted_swag_statements.append(\n",
    "        {'id': q['ind'],\n",
    "         'statement': f'{q['ctx']} Answer: {q['endings'][q['label']]}'}\n",
    "    )\n",
    "\n",
    "print(formatted_swag_statements)\n"
   ]
  },
  {
   "cell_type": "code",
   "execution_count": 69,
   "metadata": {},
   "outputs": [
    {
     "name": "stdout",
     "output_type": "stream",
     "text": [
      "70\n",
      "[{'context': 'Kai swung through the trees while she was outside.', 'question': 'How would you describe Kai?', 'answerA': 'quiet', 'answerB': 'athletic', 'answerC': 'kai who has swung the trees', 'label': 2}, {'context': 'Robin thanked Jordan for the dinner.', 'question': 'Why did Robin do this?', 'answerA': 'Get a goodnight kiss', 'answerB': 'Be taken home by Jordan', 'answerC': 'caring', 'label': 1}, {'context': 'Jan gave the entire class an F on the assignment.', 'question': 'Why did Jan do this?', 'answerA': 'make them fail', 'answerB': 'catch them cheating', 'answerC': 'hurt their grades', 'label': 3}, {'context': 'Robin held her breath underwater in the pool.', 'question': 'How would you describe Robin?', 'answerA': 'exhausted', 'answerB': 'fun', 'answerC': 'tired', 'label': 2}, {'context': 'Quinn climbed into bed after a full, busy day of work.', 'question': 'Why did Quinn do this?', 'answerA': 'felt tired', 'answerB': 'shut the lights off', 'answerC': 'felt energized', 'label': 1}, {'context': 'Sasha got very tired, so she took a nap.', 'question': 'How would Sasha feel afterwards?', 'answerA': 'exhausted', 'answerB': 'energetic', 'answerC': 'more tired', 'label': 2}, {'context': 'Carson turned music down to go to college instead.', 'question': 'How would you describe Carson?', 'answerA': 'reckless', 'answerB': 'practical', 'answerC': 'powerful', 'label': 2}, {'context': 'Robin was on a diet.', 'question': 'How would Robin feel afterwards?', 'answerA': 'remorse', 'answerB': 'happy', 'answerC': 'Someone with good self control', 'label': 3}, {'context': 'Robin was playing soccer and played for a long time.', 'question': 'Why did Robin do this?', 'answerA': 'buy a soccer ball', 'answerB': 'learn the rules of the game', 'answerC': 'were having fun', 'label': 3}, {'context': \"remy was a kind person so he set up ash's tent.\", 'question': 'What will happen to Remy?', 'answerA': 'be harassed', 'answerB': 'sleep in a tent', 'answerC': 'be honored', 'label': 2}, {'context': \"Kai observed and improved Jan's work.\", 'question': 'What will Kai want to do next?', 'answerA': 'be effective', 'answerB': 'get praise', 'answerC': 'get incredible', 'label': 2}, {'context': 'Ash wore a dress and all of his friends laughed at him.', 'question': 'Why did Ash do this?', 'answerA': 'hurry home and change his clothes', 'answerB': 'embarrass all of his friends', 'answerC': 'become a girl', 'label': 3}, {'context': 'Kendall drank every night with their friends.', 'question': 'How would Kendall feel afterwards?', 'answerA': 'a person who indulges themselves', 'answerB': 'hungover', 'answerC': 'a person who has no goal in life', 'label': 2}, {'context': \"Riley was really hungry so she ate Jordan's bread.\", 'question': 'How would you describe Riley?', 'answerA': 'Looking at some of the reasons to hungry', 'answerB': 'Happy', 'answerC': 'Uncaring', 'label': 3}, {'context': 'Taylor had to throw it away because it was spoiled.', 'question': 'How would you describe Taylor?', 'answerA': 'sanitary', 'answerB': 'clean', 'answerC': 'dirty', 'label': 1}, {'context': 'Ash and Sasha have been dating for a long time.', 'question': 'Why did Ash do this?', 'answerA': 'get protection', 'answerB': 'keep dating', 'answerC': 'affectionate', 'label': 3}, {'context': 'kai was scared so he crowded around sydney.', 'question': 'What will Sydney want to do next?', 'answerA': 'stand up for herself', 'answerB': 'berate kai', 'answerC': 'push kai away', 'label': 3}, {'context': 'Kai told Kendall the reason so mad last night.', 'question': 'How would Kai feel afterwards?', 'answerA': 'happening', 'answerB': 'knowledgeable', 'answerC': 'sorry', 'label': 3}, {'context': 'Quinn finished the movie and cried at the ending.', 'question': 'How would you describe Quinn?', 'answerA': 'coldhearted', 'answerB': 'sad', 'answerC': 'sensitive', 'label': 3}, {'context': 'Kai was standing on the edge and could fall over.', 'question': 'How would you describe Kai?', 'answerA': \"Better that it didn't have\", 'answerB': 'taking a risk', 'answerC': 'making a bad decision', 'label': 2}, {'context': 'Riley watched Jesse with observant eyes.', 'question': 'What will happen to Jesse?', 'answerA': 'creeped out', 'answerB': 'be confronted by Jesse', 'answerC': 'be sneered at by Jesse', 'label': 1}, {'context': 'Cameron wasted money on an expensive handbag.', 'question': 'Why did Cameron do this?', 'answerA': 'regret her actions', 'answerB': 'buy a status item', 'answerC': 'resent her waste', 'label': 2}, {'context': 'Ash was cut short by the speaker at the conference.', 'question': 'How would you describe Ash?', 'answerA': 'frustrated', 'answerB': 'Inassertive', 'answerC': 'irritated', 'label': 1}, {'context': 'Riley looked at Jesse.', 'question': 'What will Riley want to do next?', 'answerA': 'Question: At the awards dinner, Riley looked at Jesse with admiration. Why did Riley do this?   Jesse had won the top prize for the company and the team', 'answerB': 'had planned the awards dinner and it had gone very smoothly', 'answerC': 'Look at something else', 'label': 3}, {'context': 'Riley had a lot of friends.', 'question': 'What will happen to Riley?', 'answerA': 'they will play with Riley', 'answerB': 'they will like Riley', 'answerC': 'interacted outside the home a lot', 'label': 1}, {'context': 'Aubrey never told Riley the answer and Riley was angry.', 'question': 'How would you describe Aubrey?', 'answerA': 'rude', 'answerB': 'smug at knowing the answer', 'answerC': \"annoyed at Riley's response\", 'label': 1}, {'context': 'Sasha was playing a game but they got tired of it.', 'question': 'How would you describe Sasha?', 'answerA': 'fed up', 'answerB': \"Someone that want's something else to do\", 'answerC': 'bored', 'label': 3}, {'context': 'Sasha increased the pay rate of their employees.', 'question': 'How would you describe Sasha?', 'answerA': 'a good boss', 'answerB': 'satisfied', 'answerC': 'proud', 'label': 1}, {'context': 'Alex helped Casey escape from the jail cell.', 'question': 'What will happen to Casey?', 'answerA': 'get arrested again', 'answerB': 'hide out with Alex', 'answerC': 'she will go to jail', 'label': 2}, {'context': 'Tracy was driving to school and then decided not to go.', 'question': 'Why did Tracy do this?', 'answerA': 'they will head back home', 'answerB': 'skip a test', 'answerC': 'hand in her homework', 'label': 2}, {'context': 'Carson was visiting.', 'question': 'What will Carson want to do next?', 'answerA': 'play a game', 'answerB': 'Leave his friends', 'answerC': 'speak with Carson about what he has been doing', 'label': 1}, {'context': 'Alex gave Sasha service to her car today.', 'question': 'How would Alex feel afterwards?', 'answerA': 'as helpful', 'answerB': 'tired', 'answerC': 'as kind', 'label': 1}, {'context': 'Riley cried after Jesse said something.', 'question': 'What did Jesse say?', 'answerA': 'crying', 'answerB': 'nice', 'answerC': 'Insults about Riley', 'label': 3}, {'context': 'Jordan let others into his house.', 'question': 'Why did Jordan do this?', 'answerA': 'was having a game night', 'answerB': 'open the door', 'answerC': 'unlock the door', 'label': 1}, {'context': 'Riley was in pain.', 'question': 'How would Riley feel afterwards?', 'answerA': 'aware', 'answerB': 'Painful', 'answerC': 'Great', 'label': 2}, {'context': 'Sasha grabbed Robins head and gave it a good shake.', 'question': 'Why did Sasha do this?', 'answerA': 'joke around', 'answerB': 'bully', 'answerC': 'better', 'label': 1}, {'context': 'Jesse had made popcorn for Jesse and Lee.', 'question': 'How would you describe Jesse?', 'answerA': 'annoyed', 'answerB': 'nice', 'answerC': 'sharing', 'label': 2}, {'context': 'Riley began to hurt inside.', 'question': 'How would Riley feel afterwards?', 'answerA': 'happy', 'answerB': 'Someone who needs help', 'answerC': 'Painful', 'label': 2}, {'context': 'Sasha helped Jordan.', 'question': 'What will Sasha want to do next?', 'answerA': 'help herself', 'answerB': 'Beat others down', 'answerC': 'friends with Jordan', 'label': 3}, {'context': 'Aubrey was practicing her violin all night.', 'question': 'How would others feel as a result?', 'answerA': 'Annoyed', 'answerB': 'Masterful', 'answerC': 'Very accomplished', 'label': 1}, {'context': 'Kai had got into bed and felt relaxed.', 'question': 'How would you describe Kai?', 'answerA': 'feeling tired', 'answerB': 'wanting to leave', 'answerC': 'content', 'label': 1}, {'context': \"Kai grabbed Carson's tools and then made use of them.\", 'question': 'Why did Kai do this?', 'answerA': 'use them next', 'answerB': 'want them back next', 'answerC': \"didn't have any\", 'label': 3}, {'context': 'Bailey was a fast learner.', 'question': 'How would you describe Bailey?', 'answerA': 'happy at having learned so fast', 'answerB': 'proud at having learned so fast', 'answerC': 'Knowledge-seeking', 'label': 3}, {'context': 'Lee wore a jacket because it was winter and it was cold.', 'question': 'Why did Lee do this?', 'answerA': 'buy some mittens', 'answerB': 'stay out of the cold', 'answerC': 'stay warm', 'label': 3}, {'context': 'Taylor gave Kai a lot to think about.', 'question': 'What will happen to Taylor?', 'answerA': 'not talk to Kai', 'answerB': 'Research the information', 'answerC': 'not give out the information', 'label': 2}, {'context': 'Remy dropped a dime and picked it up right away.', 'question': 'How would you describe Remy?', 'answerA': 'careless', 'answerB': 'frivolous', 'answerC': 'cheap', 'label': 3}, {'context': 'Austin got extra help on the paper due tomorrow.', 'question': 'How would Austin feel afterwards?', 'answerA': 'lazy', 'answerB': 'happy', 'answerC': 'dissapointed', 'label': 2}, {'context': 'Cameron went off on her way.', 'question': 'How would Others feel as a result?', 'answerA': 'left out', 'answerB': 'accomplished', 'answerC': 'glad', 'label': 1}, {'context': 'Ash used metaphor and meaning through out his book.', 'question': 'How would Ash feel afterwards?', 'answerA': 'talented', 'answerB': 'Like they expressed their thoughts', 'answerC': 'creative', 'label': 3}, {'context': 'Remy got very dark because it is late at night.', 'question': 'What will Remy want to do next?', 'answerA': 'go out', 'answerB': 'turn on the light', 'answerC': 'sleep', 'label': 3}]\n"
     ]
    }
   ],
   "source": [
    "# extracting random samples from socialIQA dataset\n",
    "file_path_data = 'data/siqa_dev.jsonl'\n",
    "file_path_labels = 'data/siqa_dev_labels.lst'\n",
    "\n",
    "# load data\n",
    "with open(file_path_data, 'r') as f:\n",
    "    data = [json.loads(line) for line in f]\n",
    "\n",
    "# load labels\n",
    "with open(file_path_labels, 'r') as f:\n",
    "    labels = [int(label) for label in f]\n",
    "\n",
    "# merge labels into data\n",
    "for i in range(len(data)):\n",
    "    data[i]['label'] = labels[i]\n",
    "\n",
    "# filter list for short questions + answers\n",
    "data = [q for q in data if len(f'{q['context']} {q['question']} Answer: {q[f'answer{['A', 'B', 'C'][q['label']-1]}']}') < sample_len]\n",
    "\n",
    "print(len(data))\n",
    "\n",
    "# randomly sample n rows, save as json\n",
    "sample = random.sample(data, n)\n",
    "with open('data/samples/social_iqa_sample.jsonl', 'w') as f:\n",
    "    for line in sample:\n",
    "        f.write(json.dumps(line) + '\\n')\n",
    "\n",
    "# print sample\n",
    "print(sample)\n"
   ]
  },
  {
   "cell_type": "code",
   "execution_count": 70,
   "metadata": {},
   "outputs": [
    {
     "name": "stdout",
     "output_type": "stream",
     "text": [
      "[{'id': '', 'statement': 'Kai swung through the trees while she was outside. How would you describe Kai? Answer: athletic'}, {'id': '', 'statement': 'Robin thanked Jordan for the dinner. Why did Robin do this? Answer: Get a goodnight kiss'}, {'id': '', 'statement': 'Jan gave the entire class an F on the assignment. Why did Jan do this? Answer: hurt their grades'}, {'id': '', 'statement': 'Robin held her breath underwater in the pool. How would you describe Robin? Answer: fun'}, {'id': '', 'statement': 'Quinn climbed into bed after a full, busy day of work. Why did Quinn do this? Answer: felt tired'}, {'id': '', 'statement': 'Sasha got very tired, so she took a nap. How would Sasha feel afterwards? Answer: energetic'}, {'id': '', 'statement': 'Carson turned music down to go to college instead. How would you describe Carson? Answer: practical'}, {'id': '', 'statement': 'Robin was on a diet. How would Robin feel afterwards? Answer: Someone with good self control'}, {'id': '', 'statement': 'Robin was playing soccer and played for a long time. Why did Robin do this? Answer: were having fun'}, {'id': '', 'statement': \"remy was a kind person so he set up ash's tent. What will happen to Remy? Answer: sleep in a tent\"}, {'id': '', 'statement': \"Kai observed and improved Jan's work. What will Kai want to do next? Answer: get praise\"}, {'id': '', 'statement': 'Ash wore a dress and all of his friends laughed at him. Why did Ash do this? Answer: become a girl'}, {'id': '', 'statement': 'Kendall drank every night with their friends. How would Kendall feel afterwards? Answer: hungover'}, {'id': '', 'statement': \"Riley was really hungry so she ate Jordan's bread. How would you describe Riley? Answer: Uncaring\"}, {'id': '', 'statement': 'Taylor had to throw it away because it was spoiled. How would you describe Taylor? Answer: sanitary'}, {'id': '', 'statement': 'Ash and Sasha have been dating for a long time. Why did Ash do this? Answer: affectionate'}, {'id': '', 'statement': 'kai was scared so he crowded around sydney. What will Sydney want to do next? Answer: push kai away'}, {'id': '', 'statement': 'Kai told Kendall the reason so mad last night. How would Kai feel afterwards? Answer: sorry'}, {'id': '', 'statement': 'Quinn finished the movie and cried at the ending. How would you describe Quinn? Answer: sensitive'}, {'id': '', 'statement': 'Kai was standing on the edge and could fall over. How would you describe Kai? Answer: taking a risk'}, {'id': '', 'statement': 'Riley watched Jesse with observant eyes. What will happen to Jesse? Answer: creeped out'}, {'id': '', 'statement': 'Cameron wasted money on an expensive handbag. Why did Cameron do this? Answer: buy a status item'}, {'id': '', 'statement': 'Ash was cut short by the speaker at the conference. How would you describe Ash? Answer: frustrated'}, {'id': '', 'statement': 'Riley looked at Jesse. What will Riley want to do next? Answer: Look at something else'}, {'id': '', 'statement': 'Riley had a lot of friends. What will happen to Riley? Answer: they will play with Riley'}, {'id': '', 'statement': 'Aubrey never told Riley the answer and Riley was angry. How would you describe Aubrey? Answer: rude'}, {'id': '', 'statement': 'Sasha was playing a game but they got tired of it. How would you describe Sasha? Answer: bored'}, {'id': '', 'statement': 'Sasha increased the pay rate of their employees. How would you describe Sasha? Answer: a good boss'}, {'id': '', 'statement': 'Alex helped Casey escape from the jail cell. What will happen to Casey? Answer: hide out with Alex'}, {'id': '', 'statement': 'Tracy was driving to school and then decided not to go. Why did Tracy do this? Answer: skip a test'}, {'id': '', 'statement': 'Carson was visiting. What will Carson want to do next? Answer: play a game'}, {'id': '', 'statement': 'Alex gave Sasha service to her car today. How would Alex feel afterwards? Answer: as helpful'}, {'id': '', 'statement': 'Riley cried after Jesse said something. What did Jesse say? Answer: Insults about Riley'}, {'id': '', 'statement': 'Jordan let others into his house. Why did Jordan do this? Answer: was having a game night'}, {'id': '', 'statement': 'Riley was in pain. How would Riley feel afterwards? Answer: Painful'}, {'id': '', 'statement': 'Sasha grabbed Robins head and gave it a good shake. Why did Sasha do this? Answer: joke around'}, {'id': '', 'statement': 'Jesse had made popcorn for Jesse and Lee. How would you describe Jesse? Answer: nice'}, {'id': '', 'statement': 'Riley began to hurt inside. How would Riley feel afterwards? Answer: Someone who needs help'}, {'id': '', 'statement': 'Sasha helped Jordan. What will Sasha want to do next? Answer: friends with Jordan'}, {'id': '', 'statement': 'Aubrey was practicing her violin all night. How would others feel as a result? Answer: Annoyed'}, {'id': '', 'statement': 'Kai had got into bed and felt relaxed. How would you describe Kai? Answer: feeling tired'}, {'id': '', 'statement': \"Kai grabbed Carson's tools and then made use of them. Why did Kai do this? Answer: didn't have any\"}, {'id': '', 'statement': 'Bailey was a fast learner. How would you describe Bailey? Answer: Knowledge-seeking'}, {'id': '', 'statement': 'Lee wore a jacket because it was winter and it was cold. Why did Lee do this? Answer: stay warm'}, {'id': '', 'statement': 'Taylor gave Kai a lot to think about. What will happen to Taylor? Answer: Research the information'}, {'id': '', 'statement': 'Remy dropped a dime and picked it up right away. How would you describe Remy? Answer: cheap'}, {'id': '', 'statement': 'Austin got extra help on the paper due tomorrow. How would Austin feel afterwards? Answer: happy'}, {'id': '', 'statement': 'Cameron went off on her way. How would Others feel as a result? Answer: left out'}, {'id': '', 'statement': 'Ash used metaphor and meaning through out his book. How would Ash feel afterwards? Answer: creative'}, {'id': '', 'statement': 'Remy got very dark because it is late at night. What will Remy want to do next? Answer: sleep'}]\n"
     ]
    }
   ],
   "source": [
    "# rebuild sample, construct formatted sentences\n",
    "'''\n",
    "Relevent columns:\n",
    "- context (str)\n",
    "- question (str)\n",
    "- answerA, answerB, answerC (str)\n",
    "- label (int: correct answer)\n",
    "'''\n",
    "\n",
    "with open('data/samples/social_iqa_sample.jsonl', 'r') as f:\n",
    "    data = [json.loads(line) for line in f]\n",
    "\n",
    "# format answer\n",
    "formatted_si_statements = []\n",
    "for q in data:\n",
    "    answer_key = f'answer{['A', 'B', 'C'][q['label']-1]}'\n",
    "    formatted_si_statements.append(\n",
    "        {'id': '',\n",
    "         'statement': f'{q['context']} {q['question']} Answer: {q[answer_key]}'}\n",
    "    )\n",
    "\n",
    "print(formatted_si_statements)"
   ]
  },
  {
   "cell_type": "code",
   "execution_count": 71,
   "metadata": {},
   "outputs": [
    {
     "name": "stdout",
     "output_type": "stream",
     "text": [
      "1030\n",
      "[{'ind': 43808, 'activity_label': 'Using parallel bars', 'ctx_a': 'A gymnast mounts a high beam in a gym.', 'ctx_b': 'he', 'ctx': 'A gymnast mounts a high beam in a gym. he', 'split': 'train', 'split_type': 'indomain', 'label': 2, 'endings': ['then dismounts, landing in a sand pit on the gym floor.', 'steps onto the beam and spins around many times before performing.', 'flips and does several springs.', 'does a forward somersault, flipping down the steps.'], 'source_id': 'activitynet~v_fg_R9Vrr1KI'}, {'ind': 18146, 'activity_label': 'Table soccer', 'ctx_a': 'A foosball table is on a tiled floor.', 'ctx_b': 'people', 'ctx': 'A foosball table is on a tiled floor. people', 'split': 'train', 'split_type': 'indomain', 'label': 2, 'endings': ['are sitting down playing the game.', 'sit on the foosball table and juggle.', 'are playing foosball indoors.', 'are playing dodgeball on a foosball table.'], 'source_id': 'activitynet~v_DP9hfhq8sro'}, {'ind': 35367, 'activity_label': 'Tumbling', 'ctx_a': 'We see a girl jumping on a trampoline in doors.', 'ctx_b': 'we', 'ctx': 'We see a girl jumping on a trampoline in doors. we', 'split': 'train', 'split_type': 'indomain', 'label': 0, 'endings': ['see the girl spin in the air.', 'see the girl jump from 50 meters.', 'see a girls jump off a board.', 'see a closing screen.'], 'source_id': 'activitynet~v_yPpKYckLbdI'}, {'ind': 48695, 'activity_label': 'Croquet', 'ctx_a': 'A boy walks backwards on the lawn.', 'ctx_b': 'the boy', 'ctx': 'A boy walks backwards on the lawn. the boy', 'split': 'train', 'split_type': 'indomain', 'label': 1, 'endings': ['raises his leg out on the lawn.', 'picks up the croquet stick and makes his shot.', 'turns and attacks cars and people.', 'knocks over a tree.'], 'source_id': 'activitynet~v_N9xp9VbpklQ'}, {'ind': 1598, 'activity_label': 'Mooping floor', 'ctx_a': 'Letters are shown on a screen.', 'ctx_b': 'a blue bucket', 'ctx': 'Letters are shown on a screen. a blue bucket', 'split': 'train', 'split_type': 'indomain', 'label': 2, 'endings': ['is filled with dirty water and slowly filled with soap.', 'is filled with chocolate milk.', 'is put into a sink.', 'is covered in water.'], 'source_id': 'activitynet~v_IkXuooaGnCc'}, {'ind': 30304, 'activity_label': 'Wrapping presents', 'ctx_a': 'A person holds a ring in a small box.', 'ctx_b': 'then', 'ctx': 'A person holds a ring in a small box. then', 'split': 'train', 'split_type': 'indomain', 'label': 0, 'endings': [', the man wraps the box with gift paper.', ', the person puts the ring on the finger of the hand and clean the rings with a towel.', ', the person puts the ring to the ear and makes a piercing.', \", the person spins, then the man pins the, then put a medal on the woman's neck.\"], 'source_id': 'activitynet~v_0PLaN0hmMDY'}, {'ind': 17324, 'activity_label': 'Zumba', 'ctx_a': 'A woman is dancing up on a stage.', 'ctx_b': 'she', 'ctx': 'A woman is dancing up on a stage. she', 'split': 'train', 'split_type': 'indomain', 'label': 0, 'endings': ['is leading a large group in zumba class.', 'twirls several batons around on the floor.', 'starts talking to the audience before the performance.', 'starts dancing for the audience.'], 'source_id': 'activitynet~v_thhFfqcOfJQ'}, {'ind': 46581, 'activity_label': 'Clipping cat claws', 'ctx_a': 'A person is holding a cats paw and clipping their nails.', 'ctx_b': 'they', 'ctx': 'A person is holding a cats paw and clipping their nails. they', 'split': 'train', 'split_type': 'indomain', 'label': 0, 'endings': ['pet the can afterwards.', 'put the cat paw on the finger and begin painting their nails black.', 'pour liquid in and fasten the nails together.', 'then put patches of hair on the cats.'], 'source_id': 'activitynet~v_U36rsW_WhUA'}, {'ind': 5350, 'activity_label': 'Playing saxophone', 'ctx_a': 'Little kid is playing saxophone in front of a wall.', 'ctx_b': 'people', 'ctx': 'Little kid is playing saxophone in front of a wall. people', 'split': 'train', 'split_type': 'indomain', 'label': 1, 'endings': ['are sitting in front of him watching.', 'are passing in front of the kid.', 'are in front of the wall standing on the ground watching his performance.', 'are standing in front of a wall behind the kid.'], 'source_id': 'activitynet~v_zWA4Fb4fVmE'}, {'ind': 33940, 'activity_label': 'Cheerleading', 'ctx_a': 'Cheerleaders are standing on a blue mat.', 'ctx_b': 'they', 'ctx': 'Cheerleaders are standing on a blue mat. they', 'split': 'train', 'split_type': 'indomain', 'label': 2, 'endings': ['are holding 0 batons while jumping and twirling them.', 'are in a martial arts routine.', 'start doing a routine on the mat.', 'kick their legs up in the air.'], 'source_id': 'activitynet~v_iaqFvTpoceI'}, {'ind': 35241, 'activity_label': 'River tubing', 'ctx_a': 'Several people float down a river in tubes.', 'ctx_b': 'they', 'ctx': 'Several people float down a river in tubes. they', 'split': 'train', 'split_type': 'indomain', 'label': 2, 'endings': ['are in the tube together as they fall from their tubes.', 'float up through the air slowly.', 'pass through several rocks.', 'arrive at the bottom of a cliff.'], 'source_id': 'activitynet~v_x39KxoQHEp4'}, {'ind': 8255, 'activity_label': 'Smoking hookah', 'ctx_a': 'A young man sucks smoke through a hookah pipe.', 'ctx_b': 'the boy', 'ctx': 'A young man sucks smoke through a hookah pipe. the boy', 'split': 'train', 'split_type': 'indomain', 'label': 0, 'endings': ['blows smoke rings through the air.', 'does the same thing.', 'blows smoke rings at a pinata hanging from the ceiling.', 'blows smoke out of his mouth, then blows more inside his mouth.'], 'source_id': 'activitynet~v_CMTiL1ctmDs'}, {'ind': 19655, 'activity_label': 'Using the pommel horse', 'ctx_a': 'A man jumps onto a balance beam.', 'ctx_b': 'he', 'ctx': 'A man jumps onto a balance beam. he', 'split': 'train', 'split_type': 'indomain', 'label': 3, 'endings': ['swings around and flips several times in the air.', 'goes over the balance beam several times before nearby onlookers begin jumping off the side.', 'mounts the bar and does a gymnastic routine on the balance beam.', 'does a gymnastics routine on the balance beam.'], 'source_id': 'activitynet~v_pOVICBn8QMw'}, {'ind': 37437, 'activity_label': 'Plastering', 'ctx_a': 'A man pours concrete onto a plate.', 'ctx_b': 'he', 'ctx': 'A man pours concrete onto a plate. he', 'split': 'train', 'split_type': 'indomain', 'label': 2, 'endings': ['is then shown adding the chunks of cement to the plate to form a mini-pyramid that he vaults over onto the floor.', 'measures the cement to make sure it is evenly evenly separated.', 'is wearing a blue uniform.', 'puts the cement onto a carpet.'], 'source_id': 'activitynet~v_qL7kMgxpFJY'}, {'ind': 47718, 'activity_label': 'Calf roping', 'ctx_a': 'A cowboy is released from a rodeo gate.', 'ctx_b': 'he', 'ctx': 'A cowboy is released from a rodeo gate. he', 'split': 'train', 'split_type': 'indomain', 'label': 3, 'endings': ['lassos a bull that is tied up to a horse.', 'lassos a calf that goes flying over a bar.', 'ropes a calf and throws him onto a spread.', 'uses a lasso to catch a small calf.'], 'source_id': 'activitynet~v_xhBvsWa0PCs'}, {'ind': 18298, 'activity_label': 'Playing water polo', 'ctx_a': 'People are in the pool swimming.', 'ctx_b': 'a person', 'ctx': 'People are in the pool swimming. a person', 'split': 'train', 'split_type': 'indomain', 'label': 1, 'endings': ['is beating the yellow ball.', 'picks up a yellow ball and throws it.', 'falls off their board.', 'steps on a hose.'], 'source_id': 'activitynet~v_HWgQhsTgj90'}, {'ind': 4375, 'activity_label': 'Playing rubik cube', 'ctx_a': 'A person begins to solve a rubix cube.', 'ctx_b': 'they', 'ctx': 'A person begins to solve a rubix cube. they', 'split': 'train', 'split_type': 'indomain', 'label': 1, 'endings': ['work on it in the dark.', 'start turning it in all directions.', 'tap the cube with a stick.', 'try to solve it by jumping.'], 'source_id': 'activitynet~v_o8PA6XW32oI'}, {'ind': 39482, 'activity_label': 'Arm wrestling', 'ctx_a': 'A couple of arm wrestlers are on a mat.', 'ctx_b': 'they', 'ctx': 'A couple of arm wrestlers are on a mat. they', 'split': 'train', 'split_type': 'indomain', 'label': 1, 'endings': ['are fighting over the mat.', 'lock arms and push hard.', 'are using weighted poles to hit each other.', 'are all wearing protective masks.'], 'source_id': 'activitynet~v_i4SNM6xSLI8'}, {'ind': 46946, 'activity_label': 'Clipping cat claws', 'ctx_a': 'A vet tech is talking behind a table.', 'ctx_b': 'an orange tabby cat', 'ctx': 'A vet tech is talking behind a table. an orange tabby cat', 'split': 'train', 'split_type': 'indomain', 'label': 3, 'endings': ['is walking next to her.', 'is sitting on the table with their legs up.', 'is being docced.', 'is seated on the table.'], 'source_id': 'activitynet~v_dea_92hDJnU'}, {'ind': 6530, 'activity_label': 'Getting a piercing', 'ctx_a': 'A woman is laying on a medical chair.', 'ctx_b': 'here mouth', 'ctx': 'A woman is laying on a medical chair. here mouth', 'split': 'train', 'split_type': 'indomain', 'label': 0, 'endings': ['is held open with clamps by second woman.', \"is working, and she's talking about the roof.\", 'is placed into a bowl of water.', 'is taped and scissors is piercing it.'], 'source_id': 'activitynet~v_Te9e32TDiZ8'}, {'ind': 19816, 'activity_label': 'Removing curlers', 'ctx_a': 'A man and lady leave a room.', 'ctx_b': 'a man', 'ctx': 'A man and lady leave a room. a man', 'split': 'train', 'split_type': 'indomain', 'label': 3, 'endings': ['is installing lights on a christmas tree.', 'hops on a pool table and sets up a game.', 'takes scissors and cuts a lady, then he and the lady perform ballet moves.', 'kisses a lady on the cheek as they walk arm to arm.'], 'source_id': 'activitynet~v_t7J7SugZPlE'}, {'ind': 25075, 'activity_label': 'Decorating the Christmas tree', 'ctx_a': 'Two men are decorating a christmas tree.', 'ctx_b': 'they', 'ctx': 'Two men are decorating a christmas tree. they', 'split': 'train', 'split_type': 'indomain', 'label': 1, 'endings': ['move the decorations back and forth until one tree is gone.', 'are putting red ribbon around the tree.', 'are cubed up with ornaments and ornaments as they work.', 'use a large, razor sharp ax to carve out the wooden legs of a christmas tree.'], 'source_id': 'activitynet~v_vt46wY2Q9JQ'}, {'ind': 47431, 'activity_label': 'Waterskiing', 'ctx_a': 'A man is water skiing on a large lake.', 'ctx_b': 'he', 'ctx': 'A man is water skiing on a large lake. he', 'split': 'train', 'split_type': 'indomain', 'label': 1, 'endings': ['is then hit by a wave and is pulled back.', 'is being pulled by a motor boat.', 'grabs onto a fishing pole to gain momentum.', 'gets to a bend in the water and falls.'], 'source_id': 'activitynet~v_plhiqYw0P_g'}, {'ind': 41629, 'activity_label': 'Wakeboarding', 'ctx_a': 'Several men stand on a pier. One of the men is shirtless.', 'ctx_b': 'they', 'ctx': 'Several men stand on a pier. One of the men is shirtless. they', 'split': 'train', 'split_type': 'indomain', 'label': 3, 'endings': ['pull their oars in unison.', 'begin playing a game of rock paper scissors.', 'begin playing a game of board.', 'bring out some raw meat.'], 'source_id': 'activitynet~v_IdEcXDZ4Cos'}, {'ind': 37, 'activity_label': 'Arm wrestling', 'ctx_a': 'Two bodybuilder women are seated at a table.', 'ctx_b': 'they', 'ctx': 'Two bodybuilder women are seated at a table. they', 'split': 'train', 'split_type': 'indomain', 'label': 2, 'endings': [\"are talking about diving techniques, bribing each other with muscle' n strength.\", 'are working out on exercise bikes.', 'are arm wrestling, vieing to win.', 'are shown on parallel bars.'], 'source_id': 'activitynet~v_-QuFk_ThRNg'}, {'ind': 19413, 'activity_label': 'Throwing darts', 'ctx_a': 'Someone is throwing a dart in a dartboad.', 'ctx_b': 'man', 'ctx': 'Someone is throwing a dart in a dartboad. man', 'split': 'train', 'split_type': 'indomain', 'label': 3, 'endings': ['is playing with wood, the dartboard.', 'is trying to catch a dart, he go dart around in a dartboard.', 'is standing in a patio holding a dart and talking to the camera.', 'is throwing darts into a board in a room.'], 'source_id': 'activitynet~v_j73Wh1olDsA'}, {'ind': 9979, 'activity_label': 'Playing lacrosse', 'ctx_a': 'Men are on a field playing lacrosse.', 'ctx_b': 'we', 'ctx': 'Men are on a field playing lacrosse. we', 'split': 'train', 'split_type': 'indomain', 'label': 2, 'endings': ['see the man a second time sitting and talking.', 'see shots of people by the beach and a championship game on the beach.', 'see number 17 blocking and following number 26.', 'see men sitting on benches in the background.'], 'source_id': 'activitynet~v_x86YIU9TIPw'}, {'ind': 44017, 'activity_label': 'Hand car wash', 'ctx_a': 'A red mustang is being hosed down.', 'ctx_b': 'next', 'ctx': 'A red mustang is being hosed down. next', 'split': 'train', 'split_type': 'indomain', 'label': 1, 'endings': [', a car gets pulled over by a yellow vehicle.', ', the workers rub soap over the car.', ', a man is re holing up a green hose to hose a green upside down cabin.', ', a red vehicle is being towed by a tow truck.'], 'source_id': 'activitynet~v_iZtie23nW_A'}, {'ind': 20832, 'activity_label': 'Fixing bicycle', 'ctx_a': 'A bike is seen upside down in a shop.', 'ctx_b': 'a man', 'ctx': 'A bike is seen upside down in a shop. a man', 'split': 'train', 'split_type': 'indomain', 'label': 2, 'endings': ['lifts the bike up to his chest.', 'is standing on the bike and going through small items on the bike.', 'shows how to remove a tire.', \"puts a tire onto the bike's handlebar.\"], 'source_id': 'activitynet~v_7MAADmeogHo'}, {'ind': 31586, 'activity_label': 'Starting a campfire', 'ctx_a': 'A man stands in front of a podium talking.', 'ctx_b': 'two other men', 'ctx': 'A man stands in front of a podium talking. two other men', 'split': 'train', 'split_type': 'indomain', 'label': 3, 'endings': ['are playing table tennis against each other.', 'working out on exercise equipment sit behind him.', 'then talk to the audience as well as a woman sitting on stage introducing her performance.', 'stand next to him.'], 'source_id': 'activitynet~v_Hc--KcdMkEA'}, {'ind': 17077, 'activity_label': 'BMX', 'ctx_a': 'Several bikers are lined up in a row.', 'ctx_b': 'they', 'ctx': 'Several bikers are lined up in a row. they', 'split': 'train', 'split_type': 'indomain', 'label': 1, 'endings': ['go around a course together, preparing to fight.', 'then take off biking.', 'are prepared to ride down the hill.', 'begin to race one after the other on their ramps.'], 'source_id': 'activitynet~v_n2wq_9TeNYM'}, {'ind': 4747, 'activity_label': 'Playing congas', 'ctx_a': 'A man is seated on a stage.', 'ctx_b': 'there', 'ctx': 'A man is seated on a stage. there', 'split': 'train', 'split_type': 'indomain', 'label': 0, 'endings': ['is a room full of people watching him.', 'is a weight rests behind him.', \"'s a large batch of drums behind him.\", \"'s a horse in a stall.\"], 'source_id': 'activitynet~v_shZRGB58YBU'}, {'ind': 11396, 'activity_label': 'Capoeira', 'ctx_a': 'We see the title over a landscape.', 'ctx_b': 'people', 'ctx': 'We see the title over a landscape. people', 'split': 'train', 'split_type': 'indomain', 'label': 2, 'endings': ['throw scuba gear into an ocean.', 'in inflatable boats enter an a neon lit court.', 'are playing instruments in a field.', 'shovel snow around a driveway.'], 'source_id': 'activitynet~v_G16xScfD5WM'}, {'ind': 37078, 'activity_label': 'Doing kickboxing', 'ctx_a': 'Two people are boxing on a mat.', 'ctx_b': 'they', 'ctx': 'Two people are boxing on a mat. they', 'split': 'train', 'split_type': 'indomain', 'label': 2, 'endings': ['have canes over their shoulders, and they look like they are fighting.', 'use a punching bag on the ground.', 'stop and step away from each other.', 'are trying to pin each other with boxing gloves.'], 'source_id': 'activitynet~v_g49F9coR2VU'}, {'ind': 23015, 'activity_label': 'Doing karate', 'ctx_a': 'A boy wearing white shorts is standing in a room.', 'ctx_b': 'he', 'ctx': 'A boy wearing white shorts is standing in a room. he', 'split': 'train', 'split_type': 'indomain', 'label': 3, 'endings': ['starts playing on a dark wooden set of drums.', 'then begins playing a squash game while standing on two stilts.', 'is playing a piano as he adjusts his headphones.', 'puts something in his mouth.'], 'source_id': 'activitynet~v_Zd22n1caVgM'}, {'ind': 5889, 'activity_label': 'Knitting', 'ctx_a': 'The old woman is sitting on a chair and knitting.', 'ctx_b': 'the woman', 'ctx': 'The old woman is sitting on a chair and knitting. the woman', 'split': 'train', 'split_type': 'indomain', 'label': 1, 'endings': ['is moving her feet around to why she knitted.', 'is showing her knitted item.', 'looked up and gave her a big smile.', 'made a ladder and its laying on the ground.'], 'source_id': 'activitynet~v_CG-itBlFOzc'}, {'ind': 16153, 'activity_label': 'Wakeboarding', 'ctx_a': 'A couple of men are riding inside a car.', 'ctx_b': 'they', 'ctx': 'A couple of men are riding inside a car. they', 'split': 'train', 'split_type': 'indomain', 'label': 3, 'endings': ['talk about playing proper games of table tennis.', 'are stopping to wash cars.', 'each take turns hitting a pinata with a mallet.', 'are talking as they drive down the road.'], 'source_id': 'activitynet~v_OBb4013eIc8'}, {'ind': 11731, 'activity_label': 'Arm wrestling', 'ctx_a': '.', 'ctx_b': 'two guys beginning a arm wrestling match, the guy in the back shirt', 'ctx': '. two guys beginning a arm wrestling match, the guy in the back shirt', 'split': 'train', 'split_type': 'indomain', 'label': 3, 'endings': ['stuns the guy in the middle with a jab to the target.', 'suddenly pick the guy in the middle of the chest, they swing him around and shoves him onto the ground and the pair is rubbing biceps after the other guy punts the black guy to the mat.', 'then gets caught and the guy on the left takes off for the door.', 'wins the first match.'], 'source_id': 'activitynet~v_Kb8SPjD121k'}, {'ind': 19374, 'activity_label': 'Swimming', 'ctx_a': 'We see a child in a robe near a pool.', 'ctx_b': 'the child', 'ctx': 'We see a child in a robe near a pool. the child', 'split': 'train', 'split_type': 'indomain', 'label': 0, 'endings': ['takes off the robe.', 'dives in, flailing his arms.', 'surfs in the pool.', 'goes to the mirror then turns it off.'], 'source_id': 'activitynet~v_ijSmiDjlmlU'}, {'ind': 33686, 'activity_label': 'Playing drums', 'ctx_a': 'A kid is sitting behind a drum set.', 'ctx_b': 'he', 'ctx': 'A kid is sitting behind a drum set. he', 'split': 'train', 'split_type': 'indomain', 'label': 2, 'endings': ['strums the drums in front of him.', 'goes very slowly at first, covering the drums with his hand.', 'starts playing the drums in front of him.', 'puts on his headphones and drums the cymbals.'], 'source_id': 'activitynet~v_fGA7nlbGmHU'}, {'ind': 27330, 'activity_label': 'Canoeing', 'ctx_a': 'A couple of people are canoing in a river.', 'ctx_b': 'they', 'ctx': 'A couple of people are canoing in a river. they', 'split': 'train', 'split_type': 'indomain', 'label': 1, 'endings': ['meet by the shore with their boards.', 'use paddles to move through the water.', 'merge into each other, then they gradually head out of the water.', 'begin by trying to get their paddles into the water.'], 'source_id': 'activitynet~v_qH3HnhEaeok'}, {'ind': 12616, 'activity_label': 'Hopscotch', 'ctx_a': 'A woman is on a concrete court outside.', 'ctx_b': 'she', 'ctx': 'A woman is on a concrete court outside. she', 'split': 'train', 'split_type': 'indomain', 'label': 3, 'endings': ['is doing a gymnastic routine on the parallel bars.', 'spins several times on the ball.', 'does several shot put like throws off of a high beam.', 'is jumping across a chalk drawn hopscotch game.'], 'source_id': 'activitynet~v_UJfwaeMrZ7A'}, {'ind': 40644, 'activity_label': 'Canoeing', 'ctx_a': '.', 'ctx_b': 'a man in a little kayak type of of boat', 'ctx': '. a man in a little kayak type of of boat', 'split': 'train', 'split_type': 'indomain', 'label': 0, 'endings': ['is paddling the boat.', 'is shown riding under the water.', 'is going home.', \"is moving towards his parent's home.\"], 'source_id': 'activitynet~v_5FM_xJGb-Tk'}, {'ind': 26557, 'activity_label': 'Playing water polo', 'ctx_a': 'A group of swimmers are in a public pool.', 'ctx_b': 'they', 'ctx': 'A group of swimmers are in a public pool. they', 'split': 'train', 'split_type': 'indomain', 'label': 3, 'endings': ['are dancing as they swim.', 'are attempting to hit a goal.', 'are surfing, going over the waves with little clothing on.', 'are involved in a game of water polo.'], 'source_id': 'activitynet~v_VrNHEv6aR38'}, {'ind': 46487, 'activity_label': 'Playing rubik cube', 'ctx_a': 'A group of boys are seated at tables.', 'ctx_b': 'they', 'ctx': 'A group of boys are seated at tables. they', 'split': 'train', 'split_type': 'indomain', 'label': 0, 'endings': [\"are trying to solve rubik's cubes puzzles.\", 'are engaged in a game of foosball together.', 'are playing volleyball as the game progresses.', 'are playing shuffleboard back and forth.'], 'source_id': 'activitynet~v_RPkLocpR8VQ'}, {'ind': 20846, 'activity_label': 'Playing water polo', 'ctx_a': 'People are in a swimming pool playing water polo.', 'ctx_b': 'a woman', 'ctx': 'People are in a swimming pool playing water polo. a woman', 'split': 'train', 'split_type': 'indomain', 'label': 1, 'endings': ['starts making a goal and starts to run towards it to start the game.', 'is walking outside the pool.', 'is holding a tablet in her hand.', 'behind them swims behind them.'], 'source_id': 'activitynet~v_7ZX3NHDmMZY'}, {'ind': 48625, 'activity_label': 'Longboarding', 'ctx_a': '.', 'ctx_b': 'a black intro screen with a logo and words', 'ctx': '. a black intro screen with a logo and words', 'split': 'train', 'split_type': 'indomain', 'label': 1, 'endings': ['appears and say: \" introduction presents j order of mountain climbers to hang upside down from big rocks at mountain range + \".', 'appear in red and white and black.', 'appear shown on the screen, including the website and contact information for the opposite gender unions.', 'that say download, add a touch of college money, and check some facebook onscreen keywords.'], 'source_id': 'activitynet~v_L1B_cE8waag'}, {'ind': 47269, 'activity_label': 'Using the pommel horse', 'ctx_a': 'A man jumps onto a balance beam.', 'ctx_b': 'he', 'ctx': 'A man jumps onto a balance beam. he', 'split': 'train', 'split_type': 'indomain', 'label': 1, 'endings': ['lays back in his hands, trying to keep his balance.', 'does a gymnastics routine on the balance beam.', 'hangs from the side, his feet and hair hanging down from the seat.', 'does several stunts, jumping down the bars in the air.'], 'source_id': 'activitynet~v_lc-piYwzqsA'}, {'ind': 15823, 'activity_label': 'Tango', 'ctx_a': 'A woman dances on a street while spectators watch.', 'ctx_b': 'an older man', 'ctx': 'A woman dances on a street while spectators watch. an older man', 'split': 'train', 'split_type': 'indomain', 'label': 0, 'endings': ['walks nearby to the woman.', 'plays a modern accordian while holding two violins.', 'sets up camp behind a tent.', 'helps her climb a tree in a building.'], 'source_id': 'activitynet~v_EQNJfWiAS28'}, {'ind': 40344, 'activity_label': 'Playing blackjack', 'ctx_a': 'A man in a black tuxedo is speaking to the camera.', 'ctx_b': 'a person', 'ctx': 'A man in a black tuxedo is speaking to the camera. a person', 'split': 'train', 'split_type': 'indomain', 'label': 3, 'endings': ['in a red shirt is angrily cleaning a painting maracas on a canvas.', 'pulls a will out of their pocket.', 'runs and sports a pole vault over a pole in a stadium.', 'walks by in the background.'], 'source_id': 'activitynet~v_19fGZFUE7yE'}]\n"
     ]
    }
   ],
   "source": [
    "# extracting random samples from piqa dataset\n",
    "file_path = 'data/piqa.jsonl'\n",
    "\n",
    "# load jsonl file\n",
    "with open(file_path, 'r') as f:\n",
    "    data = [json.loads(line) for line in f]\n",
    "\n",
    "# filter list for short questions + answers\n",
    "data = [q for q in data if len(f'{q['ctx']} Answer: {q['endings'][q['label']]}') < sample_len]\n",
    "\n",
    "print(len(data))\n",
    "\n",
    "# randomly sample n rows, save as json\n",
    "sample = random.sample(data, n)\n",
    "with open('data/samples/piqa_sample.jsonl', 'w') as f:\n",
    "    for line in sample:\n",
    "        f.write(json.dumps(line) + '\\n')\n",
    "\n",
    "# print sample\n",
    "print(sample)\n"
   ]
  },
  {
   "cell_type": "code",
   "execution_count": 72,
   "metadata": {},
   "outputs": [
    {
     "name": "stdout",
     "output_type": "stream",
     "text": [
      "[{'id': 43808, 'statement': 'A gymnast mounts a high beam in a gym. he Answer: flips and does several springs.'}, {'id': 18146, 'statement': 'A foosball table is on a tiled floor. people Answer: are playing foosball indoors.'}, {'id': 35367, 'statement': 'We see a girl jumping on a trampoline in doors. we Answer: see the girl spin in the air.'}, {'id': 48695, 'statement': 'A boy walks backwards on the lawn. the boy Answer: picks up the croquet stick and makes his shot.'}, {'id': 1598, 'statement': 'Letters are shown on a screen. a blue bucket Answer: is put into a sink.'}, {'id': 30304, 'statement': 'A person holds a ring in a small box. then Answer: , the man wraps the box with gift paper.'}, {'id': 17324, 'statement': 'A woman is dancing up on a stage. she Answer: is leading a large group in zumba class.'}, {'id': 46581, 'statement': 'A person is holding a cats paw and clipping their nails. they Answer: pet the can afterwards.'}, {'id': 5350, 'statement': 'Little kid is playing saxophone in front of a wall. people Answer: are passing in front of the kid.'}, {'id': 33940, 'statement': 'Cheerleaders are standing on a blue mat. they Answer: start doing a routine on the mat.'}, {'id': 35241, 'statement': 'Several people float down a river in tubes. they Answer: pass through several rocks.'}, {'id': 8255, 'statement': 'A young man sucks smoke through a hookah pipe. the boy Answer: blows smoke rings through the air.'}, {'id': 19655, 'statement': 'A man jumps onto a balance beam. he Answer: does a gymnastics routine on the balance beam.'}, {'id': 37437, 'statement': 'A man pours concrete onto a plate. he Answer: is wearing a blue uniform.'}, {'id': 47718, 'statement': 'A cowboy is released from a rodeo gate. he Answer: uses a lasso to catch a small calf.'}, {'id': 18298, 'statement': 'People are in the pool swimming. a person Answer: picks up a yellow ball and throws it.'}, {'id': 4375, 'statement': 'A person begins to solve a rubix cube. they Answer: start turning it in all directions.'}, {'id': 39482, 'statement': 'A couple of arm wrestlers are on a mat. they Answer: lock arms and push hard.'}, {'id': 46946, 'statement': 'A vet tech is talking behind a table. an orange tabby cat Answer: is seated on the table.'}, {'id': 6530, 'statement': 'A woman is laying on a medical chair. here mouth Answer: is held open with clamps by second woman.'}, {'id': 19816, 'statement': 'A man and lady leave a room. a man Answer: kisses a lady on the cheek as they walk arm to arm.'}, {'id': 25075, 'statement': 'Two men are decorating a christmas tree. they Answer: are putting red ribbon around the tree.'}, {'id': 47431, 'statement': 'A man is water skiing on a large lake. he Answer: is being pulled by a motor boat.'}, {'id': 41629, 'statement': 'Several men stand on a pier. One of the men is shirtless. they Answer: bring out some raw meat.'}, {'id': 37, 'statement': 'Two bodybuilder women are seated at a table. they Answer: are arm wrestling, vieing to win.'}, {'id': 19413, 'statement': 'Someone is throwing a dart in a dartboad. man Answer: is throwing darts into a board in a room.'}, {'id': 9979, 'statement': 'Men are on a field playing lacrosse. we Answer: see number 17 blocking and following number 26.'}, {'id': 44017, 'statement': 'A red mustang is being hosed down. next Answer: , the workers rub soap over the car.'}, {'id': 20832, 'statement': 'A bike is seen upside down in a shop. a man Answer: shows how to remove a tire.'}, {'id': 31586, 'statement': 'A man stands in front of a podium talking. two other men Answer: stand next to him.'}, {'id': 17077, 'statement': 'Several bikers are lined up in a row. they Answer: then take off biking.'}, {'id': 4747, 'statement': 'A man is seated on a stage. there Answer: is a room full of people watching him.'}, {'id': 11396, 'statement': 'We see the title over a landscape. people Answer: are playing instruments in a field.'}, {'id': 37078, 'statement': 'Two people are boxing on a mat. they Answer: stop and step away from each other.'}, {'id': 23015, 'statement': 'A boy wearing white shorts is standing in a room. he Answer: puts something in his mouth.'}, {'id': 5889, 'statement': 'The old woman is sitting on a chair and knitting. the woman Answer: is showing her knitted item.'}, {'id': 16153, 'statement': 'A couple of men are riding inside a car. they Answer: are talking as they drive down the road.'}, {'id': 11731, 'statement': '. two guys beginning a arm wrestling match, the guy in the back shirt Answer: wins the first match.'}, {'id': 19374, 'statement': 'We see a child in a robe near a pool. the child Answer: takes off the robe.'}, {'id': 33686, 'statement': 'A kid is sitting behind a drum set. he Answer: starts playing the drums in front of him.'}, {'id': 27330, 'statement': 'A couple of people are canoing in a river. they Answer: use paddles to move through the water.'}, {'id': 12616, 'statement': 'A woman is on a concrete court outside. she Answer: is jumping across a chalk drawn hopscotch game.'}, {'id': 40644, 'statement': '. a man in a little kayak type of of boat Answer: is paddling the boat.'}, {'id': 26557, 'statement': 'A group of swimmers are in a public pool. they Answer: are involved in a game of water polo.'}, {'id': 46487, 'statement': \"A group of boys are seated at tables. they Answer: are trying to solve rubik's cubes puzzles.\"}, {'id': 20846, 'statement': 'People are in a swimming pool playing water polo. a woman Answer: is walking outside the pool.'}, {'id': 48625, 'statement': '. a black intro screen with a logo and words Answer: appear in red and white and black.'}, {'id': 47269, 'statement': 'A man jumps onto a balance beam. he Answer: does a gymnastics routine on the balance beam.'}, {'id': 15823, 'statement': 'A woman dances on a street while spectators watch. an older man Answer: walks nearby to the woman.'}, {'id': 40344, 'statement': 'A man in a black tuxedo is speaking to the camera. a person Answer: walks by in the background.'}]\n"
     ]
    }
   ],
   "source": [
    "# rebuild sample, construct formatted sentences\n",
    "'''\n",
    "Revelent columns:\n",
    "- ind (str)\n",
    "- ctx (str)\n",
    "- label (int: index of correct answer)\n",
    "- endings (list: str)\n",
    "'''\n",
    "\n",
    "# format answer\n",
    "with open('data/samples/piqa_sample.jsonl', 'r') as f:\n",
    "    data = [json.loads(line) for line in f]\n",
    "\n",
    "formatted_pi_statements = []\n",
    "\n",
    "for q in data:\n",
    "    formatted_pi_statements.append(\n",
    "        {'id': q['ind'],\n",
    "         'statement': f'{q['ctx']} Answer: {q['endings'][q['label']]}'}\n",
    "    )\n",
    "\n",
    "print(formatted_pi_statements)"
   ]
  },
  {
   "cell_type": "code",
   "execution_count": 73,
   "metadata": {},
   "outputs": [
    {
     "name": "stdout",
     "output_type": "stream",
     "text": [
      "226\n",
      "[{'qID': '3SCKNODZ0XENKCVS5ZYT8YEDYG97NE-1', 'sentence': 'Adam loved dogs but Jason was afraid of them, so only _ petted the poodle.', 'option1': 'Adam', 'option2': 'Jason', 'answer': '1'}, {'qID': '3CRWSLD91K2ON02RAK0V65B8OXWOMD-1', 'sentence': 'I did not see the sign on the billboard on the highway because the _ was too tiny.', 'option1': 'sign', 'option2': 'billboard', 'answer': '1'}, {'qID': '3NQUW096N661AVG08JGY921UTSY9LU-2', 'sentence': 'the scanning tool could not get through the cervix because the _ was too big.', 'option1': 'cervix', 'option2': 'tool', 'answer': '2'}, {'qID': '3G3AJKPCXLQKDOHNA39XM2SABXEY40-1', 'sentence': \"Brian was jealous of Brett's new car because _ couldn't afford to buy a new car.\", 'option1': 'Brian', 'option2': 'Brett', 'answer': '1'}, {'qID': '3V7ICJJAZCU3U5NJK97D6PIHJB24BJ-1', 'sentence': 'Donald was able to catch the Frisbee thrown by Eric, then _ threw the Frisbee back.', 'option1': 'Donald', 'option2': 'Eric', 'answer': '1'}, {'qID': '3SA4EMRVJXGOZB6SKD2CP6XTJPQ0PH-1', 'sentence': 'Betty had more burns on their hands than Amy because _ worked as a welder.', 'option1': 'Betty', 'option2': 'Amy', 'answer': '1'}, {'qID': '3AA88CN98P15RQ6QVVWDTJH6D14YKV-1', 'sentence': 'They were wanting  to move the bed thru the door. The _ was way to small.', 'option1': 'door', 'option2': 'bed', 'answer': '1'}, {'qID': '3F6HPJW4JEY97P5UHRENXA6LF49W24-2', 'sentence': 'Joel complained to Ian about the condition of the house. _ preferred a messy space.', 'option1': 'Joel', 'option2': 'Ian', 'answer': '2'}, {'qID': '3R5OYNIC2ENPFK3JIFQM9HZZHAGPTY-1', 'sentence': 'Joe drank his milk and tried to dunk his cookie in the glass but the _ was too big.', 'option1': 'cookie', 'option2': 'glass', 'answer': '1'}, {'qID': '3TLFH2L6YB2TND2DGHFAD4R66LGT2D-1', 'sentence': 'The paper bags got torn when James was using it to move the groceries. The _ are weak.', 'option1': 'bags', 'option2': 'groceries', 'answer': '1'}, {'qID': '3P4ZBJFX2V1QMZJCFJNSS94LUV5WF6-1', 'sentence': \"My home is closer to the store than John's house, because the _ of me is next door.\", 'option1': 'home', 'option2': 'house', 'answer': '1'}, {'qID': '3JMQI2OLFZ331LW2WC1F8QO9KS9NDM-2', 'sentence': 'Rebecca asked Kayla to turn the lights out but _ did not want to go to sleep.', 'option1': 'Rebecca', 'option2': 'Kayla', 'answer': '2'}, {'qID': '3NZ1E5QA6ZZ6WZSCEGENJJ0NQLJ5BR-1', 'sentence': 'Erin read a book to Monica because _ was old enough to be able to read.', 'option1': 'Erin', 'option2': 'Monica', 'answer': '1'}, {'qID': '3FSEU3P2NTEXBI66RIPGEXYVTBORR1-2', 'sentence': 'Patricia had to pay less tax than Cynthia because _ made more money in the year.', 'option1': 'Patricia', 'option2': 'Cynthia', 'answer': '2'}, {'qID': '3CMV9YRYP3ZQG7T9UV7BYWFXPXIJL7-2', 'sentence': 'the water poured freely into the hole until it disappeared , the _ was  little.', 'option1': 'hole', 'option2': 'water', 'answer': '2'}, {'qID': '3Z56AA6EK6EDSJVUUMQ1H3DQT1N6MA-2', 'sentence': 'Benjamin had less piercings than Jeffrey did so it was harder for _ to get a job.', 'option1': 'Benjamin', 'option2': 'Jeffrey', 'answer': '2'}, {'qID': '3L21G7IH49AIFEJB7J2VG29GTU2Y1Y-2', 'sentence': 'The beef tasted better than the pork did although the _ had been slightly undercooked.', 'option1': 'pork', 'option2': 'beef', 'answer': '2'}, {'qID': '301KG0KX9CJOOFCBWPML7N091PC2HK-2', 'sentence': 'Beautiful roses were bought by Jason for Dennis because _ is a receiver in general.', 'option1': 'Jason', 'option2': 'Dennis', 'answer': '2'}, {'qID': '3VDVA3ILIFTITNYBDDGP922BNFYG1Z-1', 'sentence': 'I slowly poured the milk over my bowl of cereal until the _ was gone.', 'option1': 'milk', 'option2': 'cereal', 'answer': '1'}, {'qID': '3FCO4VKOZ4BJQ6IFC0VAIBK4KTWE7U-1', 'sentence': 'Sarah was a much better surgeon than Maria so _ always got the harder cases.', 'option1': 'Sarah', 'option2': 'Maria', 'answer': '1'}, {'qID': '33KGGVH24WVTF9T12NGTXO27RLAX1N-1', 'sentence': 'Justin bought a new RV but Lawrence liked his old one, so _ decided to sell it.', 'option1': 'Justin', 'option2': 'Lawrence', 'answer': '1'}, {'qID': '3XBYQ44Z6RIFZT0KU14H1B7U9RIWT0-1', 'sentence': 'The woman moved the urn in front of the vase on the shelf because the _ was attractive.', 'option1': 'urn', 'option2': 'vase', 'answer': '1'}, {'qID': '3RWB1RTQDL16H0BVFHFRIL3B2N28PC-1', 'sentence': 'Sarah had to call in an expert unlike Erin because _ had no knowledge on the subject.', 'option1': 'Sarah', 'option2': 'Erin', 'answer': '1'}, {'qID': '3IHWR4LC7FRE0EOR2MP79O2ZGB2I89-1', 'sentence': 'Brian wanted a horse but not Nick because _ raised cattle in their spare time.', 'option1': 'Brian', 'option2': 'Nick', 'answer': '1'}, {'qID': '375VMB7D4JHBNKLBZWON3ISS3B2IDT-1', 'sentence': 'The toddler kicked the hard furniture and soft toy, but only the _ caused pain.', 'option1': 'furniture', 'option2': 'toy', 'answer': '1'}, {'qID': '3Y7LTZE0YTKJZCL7LV2YDDZ6G3MUZO-1', 'sentence': 'Dennis made their weight loss goal before Eric, because _ only ate a healthy diet.', 'option1': 'Dennis', 'option2': 'Eric', 'answer': '1'}, {'qID': '3G9UA71JVVSR1M47Q161FRXWUFO7J1-1', 'sentence': 'Ben had to drain both water and oil down the sink, but the _ was too viscous.', 'option1': 'oil', 'option2': 'water', 'answer': '1'}, {'qID': '3XBXDSS88AX65GX5VXYCH3BLQYFXL8-2', 'sentence': 'His hands were a lot rougher than his thighs, because he used the _ for nothing.', 'option1': 'hands', 'option2': 'thighs', 'answer': '2'}, {'qID': '35ZRNT9RUIWN1EUH42VGA622JQKO31-2', 'sentence': 'Betty gave the full pitcher to Rachel so _ could fill her glass with water.', 'option1': 'Betty', 'option2': 'Rachel', 'answer': '2'}, {'qID': '3909MD9T21VBZOWSEH5MY1LTBI0FEY-2', 'sentence': 'After I soaked the roller in the paint container, the _ had less paint on it.', 'option1': 'roller', 'option2': 'container', 'answer': '2'}, {'qID': '3VMHWJRYHXUK5ON99MVEMQ60RUMFXU-2', 'sentence': 'Kyle asked Brett for some tips on healthy eating because _ has recently lost weight.', 'option1': 'Kyle', 'option2': 'Brett', 'answer': '2'}, {'qID': '3L7SUC0TTUS3KJA88ZYKG4FQLFSM0Y-2', 'sentence': 'Emily decided to eat a lot more yucca than Carrie did. _ was still hungry.', 'option1': 'Emily', 'option2': 'Carrie', 'answer': '2'}, {'qID': '3BPP3MA3TEYXZG6O0S8KTEQE9S9ELK-2', 'sentence': 'The woman kept the bikini but returned the top, because the _ was the wrong size.', 'option1': 'bikini', 'option2': 'top', 'answer': '2'}, {'qID': '3TC2K6WK9G0VV4BITLSFUA7A3P382Z-2', 'sentence': 'Emily never had as much money to spend as Carrie, because _ had a good job.', 'option1': 'Emily', 'option2': 'Carrie', 'answer': '2'}, {'qID': '3VO4XFFP170NHY7R5P2A4QXQW1DQ7X-1', 'sentence': 'At the ballgame, Matthew was really thirsty and Aaron was not. _ took his beverage.', 'option1': 'Matthew', 'option2': 'Aaron', 'answer': '1'}, {'qID': '3SZYX62S5IEYOCOTLXE76F2Z0SJ754-1', 'sentence': 'I had to read an entire story for class tomorrow. Luckily, the _ was short.', 'option1': 'story', 'option2': 'class', 'answer': '1'}, {'qID': '3U18MJKL1W08QIPVGEI4GIU0TBVNC1-1', 'sentence': 'The rib-eye steak needed some artisan pepper to season it because the _ was bland.', 'option1': 'steak', 'option2': 'pepper', 'answer': '1'}, {'qID': '33Q5P9PUSPKNDI47Z4HYJ7D0EKCZCJ-2', 'sentence': 'He tried to use the rag to clean the bacteria off the table but the _ was too large.', 'option1': 'bacteria', 'option2': 'table', 'answer': '2'}, {'qID': '3QO7EE372Q1AJAAHI6EQ9SJMFT7BQB-1', 'sentence': 'Victoria was eager to make the big sale to Sarah , as _ needed the money that day.', 'option1': 'Victoria', 'option2': 'Sarah', 'answer': '1'}, {'qID': '3PEG1BH7AEP9EIDFL3ITL8J5ST2BKB-2', 'sentence': 'Mary wanted to get another piercing in her ear, but the _ was much too huge.', 'option1': 'ear', 'option2': 'piercing', 'answer': '2'}, {'qID': '3YCT0L9OMONOXZERD084VNYIGGANST-2', 'sentence': 'William went on the ride more than Matthew did because _ thought it was scary.', 'option1': 'William', 'option2': 'Matthew', 'answer': '2'}, {'qID': '3LXX8KJXPYNOA5I4598QTHTWCIHO9H-1', 'sentence': 'The sound of the foot was clearly audible from the street because the _ is quiet.', 'option1': 'street', 'option2': 'sound', 'answer': '1'}, {'qID': '3X2LT8FDHYWW198WR3TMAFB7VNC8WK-1', 'sentence': 'The tree fell down sooner than the sapling because the roots of the _ were stronger.', 'option1': 'tree', 'option2': 'sapling', 'answer': '1'}, {'qID': '3OEWW2KGQLP0DVVLHPDSFDCM37QDOP-2', 'sentence': 'The farmer had more corn to harvest than yams because his cows hated eating the _ .', 'option1': 'yams', 'option2': 'corn', 'answer': '2'}, {'qID': '3O2Y2UIUCS8ELOO2A3GPWWYYV6XKF6-1', 'sentence': 'The shirts were straighter than the pants because the _ were hanging on the hanger.', 'option1': 'shirt', 'option2': 'pants', 'answer': '1'}, {'qID': '3ZZAYRN1I857UKRI3FD7KHU86YXOTC-1', 'sentence': 'Jody wanted new mascara and eyeliner, either black or brown, but the _ was too heavy.', 'option1': 'black', 'option2': 'brown', 'answer': '1'}, {'qID': '3EQPA8A374UALWAD9WYK6BQVZSFZJY-1', 'sentence': 'Joseph has an allergy to mangoes, but Nelson does not, so _ has to be very careful.', 'option1': 'Joseph', 'option2': 'Nelson', 'answer': '1'}, {'qID': '3B9J25CZ27R56VH0OAZQFC46G6YCSP-1', 'sentence': 'No one would have noticed the spot on that skin because the _ is small.', 'option1': 'spot', 'option2': 'skin', 'answer': '1'}, {'qID': '3D4BBDG7ZJA1MEWLYVYP74WUODH3CG-2', 'sentence': 'The hiking group had less food than water, so they tried to conserve the _ .', 'option1': 'water', 'option2': 'food', 'answer': '2'}, {'qID': '3KQC8JMJGCQD9X8U0P0QQX51CLEH3H-1', 'sentence': 'The TV that Samantha bought costs more than that of Carrie, because _ was rich.', 'option1': 'Samantha', 'option2': 'Carrie', 'answer': '1'}]\n"
     ]
    }
   ],
   "source": [
    "# extracting samples from winogrande dataset\n",
    "file_path = 'data/winogrande_dev.jsonl'\n",
    "\n",
    "# load jsonl file\n",
    "with open(file_path, 'r') as f:\n",
    "    data = [json.loads(line) for line in f] \n",
    "\n",
    "# filter list for short questions + answers\n",
    "data = [q for q in data if len(f'{q['sentence']} Answer: {q[f'option{q['answer']}']}') < sample_len]\n",
    "\n",
    "print(len(data))    \n",
    "\n",
    "# randomly sample n rows, save as json\n",
    "sample = random.sample(data, n)\n",
    "with open('data/samples/winogrande_sample.jsonl', 'w') as f:\n",
    "    for line in sample:\n",
    "        f.write(json.dumps(line) + '\\n')\n",
    "\n",
    "# print sample\n",
    "print(sample)\n"
   ]
  },
  {
   "cell_type": "code",
   "execution_count": 74,
   "metadata": {},
   "outputs": [
    {
     "name": "stdout",
     "output_type": "stream",
     "text": [
      "[{'id': '3SCKNODZ0XENKCVS5ZYT8YEDYG97NE-1', 'statement': 'Adam loved dogs but Jason was afraid of them, so only _ petted the poodle. Answer: Adam'}, {'id': '3CRWSLD91K2ON02RAK0V65B8OXWOMD-1', 'statement': 'I did not see the sign on the billboard on the highway because the _ was too tiny. Answer: sign'}, {'id': '3NQUW096N661AVG08JGY921UTSY9LU-2', 'statement': 'the scanning tool could not get through the cervix because the _ was too big. Answer: tool'}, {'id': '3G3AJKPCXLQKDOHNA39XM2SABXEY40-1', 'statement': \"Brian was jealous of Brett's new car because _ couldn't afford to buy a new car. Answer: Brian\"}, {'id': '3V7ICJJAZCU3U5NJK97D6PIHJB24BJ-1', 'statement': 'Donald was able to catch the Frisbee thrown by Eric, then _ threw the Frisbee back. Answer: Donald'}, {'id': '3SA4EMRVJXGOZB6SKD2CP6XTJPQ0PH-1', 'statement': 'Betty had more burns on their hands than Amy because _ worked as a welder. Answer: Betty'}, {'id': '3AA88CN98P15RQ6QVVWDTJH6D14YKV-1', 'statement': 'They were wanting  to move the bed thru the door. The _ was way to small. Answer: door'}, {'id': '3F6HPJW4JEY97P5UHRENXA6LF49W24-2', 'statement': 'Joel complained to Ian about the condition of the house. _ preferred a messy space. Answer: Ian'}, {'id': '3R5OYNIC2ENPFK3JIFQM9HZZHAGPTY-1', 'statement': 'Joe drank his milk and tried to dunk his cookie in the glass but the _ was too big. Answer: cookie'}, {'id': '3TLFH2L6YB2TND2DGHFAD4R66LGT2D-1', 'statement': 'The paper bags got torn when James was using it to move the groceries. The _ are weak. Answer: bags'}, {'id': '3P4ZBJFX2V1QMZJCFJNSS94LUV5WF6-1', 'statement': \"My home is closer to the store than John's house, because the _ of me is next door. Answer: home\"}, {'id': '3JMQI2OLFZ331LW2WC1F8QO9KS9NDM-2', 'statement': 'Rebecca asked Kayla to turn the lights out but _ did not want to go to sleep. Answer: Kayla'}, {'id': '3NZ1E5QA6ZZ6WZSCEGENJJ0NQLJ5BR-1', 'statement': 'Erin read a book to Monica because _ was old enough to be able to read. Answer: Erin'}, {'id': '3FSEU3P2NTEXBI66RIPGEXYVTBORR1-2', 'statement': 'Patricia had to pay less tax than Cynthia because _ made more money in the year. Answer: Cynthia'}, {'id': '3CMV9YRYP3ZQG7T9UV7BYWFXPXIJL7-2', 'statement': 'the water poured freely into the hole until it disappeared , the _ was  little. Answer: water'}, {'id': '3Z56AA6EK6EDSJVUUMQ1H3DQT1N6MA-2', 'statement': 'Benjamin had less piercings than Jeffrey did so it was harder for _ to get a job. Answer: Jeffrey'}, {'id': '3L21G7IH49AIFEJB7J2VG29GTU2Y1Y-2', 'statement': 'The beef tasted better than the pork did although the _ had been slightly undercooked. Answer: beef'}, {'id': '301KG0KX9CJOOFCBWPML7N091PC2HK-2', 'statement': 'Beautiful roses were bought by Jason for Dennis because _ is a receiver in general. Answer: Dennis'}, {'id': '3VDVA3ILIFTITNYBDDGP922BNFYG1Z-1', 'statement': 'I slowly poured the milk over my bowl of cereal until the _ was gone. Answer: milk'}, {'id': '3FCO4VKOZ4BJQ6IFC0VAIBK4KTWE7U-1', 'statement': 'Sarah was a much better surgeon than Maria so _ always got the harder cases. Answer: Sarah'}, {'id': '33KGGVH24WVTF9T12NGTXO27RLAX1N-1', 'statement': 'Justin bought a new RV but Lawrence liked his old one, so _ decided to sell it. Answer: Justin'}, {'id': '3XBYQ44Z6RIFZT0KU14H1B7U9RIWT0-1', 'statement': 'The woman moved the urn in front of the vase on the shelf because the _ was attractive. Answer: urn'}, {'id': '3RWB1RTQDL16H0BVFHFRIL3B2N28PC-1', 'statement': 'Sarah had to call in an expert unlike Erin because _ had no knowledge on the subject. Answer: Sarah'}, {'id': '3IHWR4LC7FRE0EOR2MP79O2ZGB2I89-1', 'statement': 'Brian wanted a horse but not Nick because _ raised cattle in their spare time. Answer: Brian'}, {'id': '375VMB7D4JHBNKLBZWON3ISS3B2IDT-1', 'statement': 'The toddler kicked the hard furniture and soft toy, but only the _ caused pain. Answer: furniture'}, {'id': '3Y7LTZE0YTKJZCL7LV2YDDZ6G3MUZO-1', 'statement': 'Dennis made their weight loss goal before Eric, because _ only ate a healthy diet. Answer: Dennis'}, {'id': '3G9UA71JVVSR1M47Q161FRXWUFO7J1-1', 'statement': 'Ben had to drain both water and oil down the sink, but the _ was too viscous. Answer: oil'}, {'id': '3XBXDSS88AX65GX5VXYCH3BLQYFXL8-2', 'statement': 'His hands were a lot rougher than his thighs, because he used the _ for nothing. Answer: thighs'}, {'id': '35ZRNT9RUIWN1EUH42VGA622JQKO31-2', 'statement': 'Betty gave the full pitcher to Rachel so _ could fill her glass with water. Answer: Rachel'}, {'id': '3909MD9T21VBZOWSEH5MY1LTBI0FEY-2', 'statement': 'After I soaked the roller in the paint container, the _ had less paint on it. Answer: container'}, {'id': '3VMHWJRYHXUK5ON99MVEMQ60RUMFXU-2', 'statement': 'Kyle asked Brett for some tips on healthy eating because _ has recently lost weight. Answer: Brett'}, {'id': '3L7SUC0TTUS3KJA88ZYKG4FQLFSM0Y-2', 'statement': 'Emily decided to eat a lot more yucca than Carrie did. _ was still hungry. Answer: Carrie'}, {'id': '3BPP3MA3TEYXZG6O0S8KTEQE9S9ELK-2', 'statement': 'The woman kept the bikini but returned the top, because the _ was the wrong size. Answer: top'}, {'id': '3TC2K6WK9G0VV4BITLSFUA7A3P382Z-2', 'statement': 'Emily never had as much money to spend as Carrie, because _ had a good job. Answer: Carrie'}, {'id': '3VO4XFFP170NHY7R5P2A4QXQW1DQ7X-1', 'statement': 'At the ballgame, Matthew was really thirsty and Aaron was not. _ took his beverage. Answer: Matthew'}, {'id': '3SZYX62S5IEYOCOTLXE76F2Z0SJ754-1', 'statement': 'I had to read an entire story for class tomorrow. Luckily, the _ was short. Answer: story'}, {'id': '3U18MJKL1W08QIPVGEI4GIU0TBVNC1-1', 'statement': 'The rib-eye steak needed some artisan pepper to season it because the _ was bland. Answer: steak'}, {'id': '33Q5P9PUSPKNDI47Z4HYJ7D0EKCZCJ-2', 'statement': 'He tried to use the rag to clean the bacteria off the table but the _ was too large. Answer: table'}, {'id': '3QO7EE372Q1AJAAHI6EQ9SJMFT7BQB-1', 'statement': 'Victoria was eager to make the big sale to Sarah , as _ needed the money that day. Answer: Victoria'}, {'id': '3PEG1BH7AEP9EIDFL3ITL8J5ST2BKB-2', 'statement': 'Mary wanted to get another piercing in her ear, but the _ was much too huge. Answer: piercing'}, {'id': '3YCT0L9OMONOXZERD084VNYIGGANST-2', 'statement': 'William went on the ride more than Matthew did because _ thought it was scary. Answer: Matthew'}, {'id': '3LXX8KJXPYNOA5I4598QTHTWCIHO9H-1', 'statement': 'The sound of the foot was clearly audible from the street because the _ is quiet. Answer: street'}, {'id': '3X2LT8FDHYWW198WR3TMAFB7VNC8WK-1', 'statement': 'The tree fell down sooner than the sapling because the roots of the _ were stronger. Answer: tree'}, {'id': '3OEWW2KGQLP0DVVLHPDSFDCM37QDOP-2', 'statement': 'The farmer had more corn to harvest than yams because his cows hated eating the _ . Answer: corn'}, {'id': '3O2Y2UIUCS8ELOO2A3GPWWYYV6XKF6-1', 'statement': 'The shirts were straighter than the pants because the _ were hanging on the hanger. Answer: shirt'}, {'id': '3ZZAYRN1I857UKRI3FD7KHU86YXOTC-1', 'statement': 'Jody wanted new mascara and eyeliner, either black or brown, but the _ was too heavy. Answer: black'}, {'id': '3EQPA8A374UALWAD9WYK6BQVZSFZJY-1', 'statement': 'Joseph has an allergy to mangoes, but Nelson does not, so _ has to be very careful. Answer: Joseph'}, {'id': '3B9J25CZ27R56VH0OAZQFC46G6YCSP-1', 'statement': 'No one would have noticed the spot on that skin because the _ is small. Answer: spot'}, {'id': '3D4BBDG7ZJA1MEWLYVYP74WUODH3CG-2', 'statement': 'The hiking group had less food than water, so they tried to conserve the _ . Answer: food'}, {'id': '3KQC8JMJGCQD9X8U0P0QQX51CLEH3H-1', 'statement': 'The TV that Samantha bought costs more than that of Carrie, because _ was rich. Answer: Samantha'}]\n"
     ]
    }
   ],
   "source": [
    "# rebuild sample, construct formatted sentences\n",
    "'''\n",
    "Relevent columns:\n",
    "- qID (str)\n",
    "- sentence (str)\n",
    "- option1, option2 (str)\n",
    "- answer (str)\n",
    "'''\n",
    "\n",
    "# format answer\n",
    "with open('data/samples/winogrande_sample.jsonl', 'r') as f:\n",
    "    data = [json.loads(line) for line in f]\n",
    "\n",
    "formatted_wg_statements = []\n",
    "for q in data:\n",
    "    answer_key = f'option{q['answer']}'\n",
    "    formatted_wg_statements.append(\n",
    "        {'id': q['qID'],\n",
    "         'statement': f'{q['sentence']} Answer: {q[answer_key]}'}\n",
    "    )\n",
    "\n",
    "print(formatted_wg_statements)"
   ]
  },
  {
   "cell_type": "code",
   "execution_count": 75,
   "metadata": {},
   "outputs": [
    {
     "name": "stdout",
     "output_type": "stream",
     "text": [
      "                                   id  \\\n",
      "0    8d0b2621524162b7c900ebba92bf7019   \n",
      "1    136c08fe01cb3e029b18b62997267810   \n",
      "2    819890987657d108834837af52d7b42b   \n",
      "3    033908492f55b9092e0fbdbcf49bab94   \n",
      "4    b67f97a3fd9f4025d34f927a7a616512   \n",
      "..                                ...   \n",
      "245  3ZZAYRN1I857UKRI3FD7KHU86YXOTC-1   \n",
      "246  3EQPA8A374UALWAD9WYK6BQVZSFZJY-1   \n",
      "247  3B9J25CZ27R56VH0OAZQFC46G6YCSP-1   \n",
      "248  3D4BBDG7ZJA1MEWLYVYP74WUODH3CG-2   \n",
      "249  3KQC8JMJGCQD9X8U0P0QQX51CLEH3H-1   \n",
      "\n",
      "                                             statement  \n",
      "0    Bill sits down on a whoopee cushion, what soun...  \n",
      "1    What is likely heard by those going to a party...  \n",
      "2    A handsome prince is a stock character common ...  \n",
      "3    What covers the largest percentage of the paci...  \n",
      "4    When black and white balls are kicked with fee...  \n",
      "..                                                 ...  \n",
      "245  Jody wanted new mascara and eyeliner, either b...  \n",
      "246  Joseph has an allergy to mangoes, but Nelson d...  \n",
      "247  No one would have noticed the spot on that ski...  \n",
      "248  The hiking group had less food than water, so ...  \n",
      "249  The TV that Samantha bought costs more than th...  \n",
      "\n",
      "[250 rows x 2 columns]\n"
     ]
    }
   ],
   "source": [
    "# build full csv of formatted statements\n",
    "\n",
    "formatted_statements = formatted_cs_statements + formatted_swag_statements + formatted_si_statements + formatted_pi_statements + formatted_wg_statements\n",
    "formatted_statements_df = pd.DataFrame(formatted_statements)\n",
    "formatted_statements_df.to_csv('data/samples/formatted_statements.csv', index=False)\n",
    "print(formatted_statements_df)"
   ]
  }
 ],
 "metadata": {
  "kernelspec": {
   "display_name": "Python 3",
   "language": "python",
   "name": "python3"
  },
  "language_info": {
   "codemirror_mode": {
    "name": "ipython",
    "version": 3
   },
   "file_extension": ".py",
   "mimetype": "text/x-python",
   "name": "python",
   "nbconvert_exporter": "python",
   "pygments_lexer": "ipython3",
   "version": "3.12.2"
  }
 },
 "nbformat": 4,
 "nbformat_minor": 2
}
